{
 "cells": [
  {
   "cell_type": "markdown",
   "id": "92778525",
   "metadata": {},
   "source": [
    "# Assignment 3: Non-Linear Models and Validation Metrics (37 total marks)\n",
    "### Due: October 24 at 11:59pm\n",
    "\n",
    "### Name: "
   ]
  },
  {
   "cell_type": "markdown",
   "id": "ce31b39a",
   "metadata": {},
   "source": [
    "### In this assignment, you will need to write code that uses non-linear models to perform classification and regression tasks. You will also be asked to describe the process by which you came up with the code. More details can be found below. Please cite any websites or AI tools that you used to help you with this assignment."
   ]
  },
  {
   "cell_type": "markdown",
   "id": "cf275ca7",
   "metadata": {},
   "source": [
    "### Import Libraries"
   ]
  },
  {
   "cell_type": "code",
   "execution_count": 36,
   "id": "2b67a661",
   "metadata": {},
   "outputs": [],
   "source": [
    "import numpy as np\n",
    "import pandas as pd\n",
    "import matplotlib.pyplot as plt\n",
    "import seaborn as sns"
   ]
  },
  {
   "cell_type": "markdown",
   "id": "5ee2d2c3",
   "metadata": {},
   "source": [
    "## Part 1: Regression (14.5 marks)\n",
    "\n",
    "For this section, we will be continuing with the concrete example from yellowbrick. You will need to compare these results to the results from the previous assignment. Please use the results from the solution if you were unable to complete Assignment 2"
   ]
  },
  {
   "cell_type": "markdown",
   "id": "8219f163",
   "metadata": {},
   "source": [
    "### Step 1: Data Input (0.5 marks)\n",
    "\n",
    "The data used for this task can be downloaded using the yellowbrick library: \n",
    "https://www.scikit-yb.org/en/latest/api/datasets/concrete.html\n",
    "\n",
    "Use the yellowbrick function `load_concrete()` to load the concrete dataset into the feature matrix `X` and target vector `y`."
   ]
  },
  {
   "cell_type": "code",
   "execution_count": 37,
   "id": "2af8bd32",
   "metadata": {},
   "outputs": [],
   "source": [
    "# TO DO: Import concrete dataset from yellowbrick library\n",
    "from yellowbrick.datasets import load_concrete\n",
    "\n",
    "# Load the concrete dataset into X (feature matrix) and y (target vector)\n",
    "X, y = load_concrete()"
   ]
  },
  {
   "cell_type": "markdown",
   "id": "42fea4cc",
   "metadata": {},
   "source": [
    "### Step 2: Data Processing (0 marks)\n",
    "\n",
    "Data processing was completed in the previous assignment. No need to repeat here."
   ]
  },
  {
   "cell_type": "markdown",
   "id": "2a245d00",
   "metadata": {},
   "source": [
    "### Step 3: Implement Machine Learning Model\n",
    "\n",
    "1. Import the Decision Tree, Random Forest and Gradient Boosting Machines regression models from sklearn\n",
    "2. Instantiate the three models with `max_depth = 5`. Are there any other parameters that you will need to set?\n",
    "3. Implement each machine learning model with `X` and `y`"
   ]
  },
  {
   "cell_type": "markdown",
   "id": "3f994e31",
   "metadata": {},
   "source": [
    "### Step 4: Validate Model\n",
    "\n",
    "Calculate the average training and validation accuracy using mean squared error with cross-validation. To do this, you will need to set `scoring='neg_mean_squared_error'` in your `cross_validate` function and negate the results (multiply by -1)"
   ]
  },
  {
   "cell_type": "markdown",
   "id": "5fc3f7a8",
   "metadata": {},
   "source": [
    "### Step 5: Visualize Results (4 marks)\n",
    "\n",
    "1. Create a pandas DataFrame `results` with columns: Training accuracy and Validation accuracy, and index: DT, RF and GB\n",
    "2. Add the accuracy results to the `results` DataFrame\n",
    "3. Print `results`"
   ]
  },
  {
   "cell_type": "code",
   "execution_count": 38,
   "id": "fdc93a78",
   "metadata": {},
   "outputs": [
    {
     "name": "stdout",
     "output_type": "stream",
     "text": [
      "   Training Accuracy Validation Accuracy\n",
      "DT         47.918561            163.7426\n",
      "RF         31.141019          157.723919\n",
      "GB           3.73927           96.176256\n"
     ]
    }
   ],
   "source": [
    "# TO DO: ADD YOUR CODE HERE FOR STEPS 3-5\n",
    "# Note: for any random state parameters, you can use random_state = 0\n",
    "# HINT: USING A LOOP TO STORE THE DATA IN YOUR RESULTS DATAFRAME WILL BE MORE EFFICIENT\n",
    "\n",
    "# STEP 3\n",
    "# Import the necessary regression models from scikit-learn\n",
    "from sklearn.tree import DecisionTreeRegressor\n",
    "from sklearn.ensemble import RandomForestRegressor, GradientBoostingRegressor\n",
    "\n",
    "# Instantiate the models with max_depth = 5\n",
    "max_depth = 5\n",
    "decision_tree = DecisionTreeRegressor(max_depth=max_depth)\n",
    "random_forest = RandomForestRegressor(max_depth=max_depth)\n",
    "gradient_boosting = GradientBoostingRegressor(max_depth=max_depth)\n",
    "\n",
    "# Fit the models with your data\n",
    "decision_tree.fit(X, y)\n",
    "random_forest.fit(X, y)\n",
    "gradient_boosting.fit(X, y)\n",
    "\n",
    "# STEP 4 & 5\n",
    "\n",
    "from sklearn.model_selection import cross_validate\n",
    "from sklearn.metrics import mean_squared_error\n",
    "\n",
    "# Create a DataFrame with the specified columns and index\n",
    "results = pd.DataFrame(columns=['Training Accuracy', 'Validation Accuracy'], index=['DT', 'RF', 'GB'])\n",
    "\n",
    "# Define the scoring metric\n",
    "scoring_metric = 'neg_mean_squared_error'\n",
    "\n",
    "# Perform cross-validation for the Decision Tree model with training scores\n",
    "decision_tree_scores = cross_validate(decision_tree, X, y, scoring=scoring_metric, cv=5, return_train_score=True)\n",
    "decision_tree_mse = -decision_tree_scores['test_score']\n",
    "avg_decision_tree_mse = decision_tree_mse.mean()\n",
    "train_decision_tree_mse = -decision_tree_scores['train_score'].mean()\n",
    "\n",
    "# Perform cross-validation for the Random Forest model with training scores\n",
    "random_forest_scores = cross_validate(random_forest, X, y, scoring=scoring_metric, cv=5, return_train_score=True)\n",
    "random_forest_mse = -random_forest_scores['test_score']\n",
    "avg_random_forest_mse = random_forest_mse.mean()\n",
    "train_random_forest_mse = -random_forest_scores['train_score'].mean()\n",
    "\n",
    "# Perform cross-validation for the Gradient Boosting model with training scores\n",
    "gradient_boosting_scores = cross_validate(gradient_boosting, X, y, scoring=scoring_metric, cv=5, return_train_score=True)\n",
    "gradient_boosting_mse = -gradient_boosting_scores['test_score']\n",
    "avg_gradient_boosting_mse = gradient_boosting_mse.mean()\n",
    "train_gradient_boosting_mse = -gradient_boosting_scores['train_score'].mean()\n",
    "\n",
    "# Add the accuracy results to the DataFrame\n",
    "results.loc['DT', 'Training Accuracy'] = train_decision_tree_mse\n",
    "results.loc['DT', 'Validation Accuracy'] = avg_decision_tree_mse\n",
    "\n",
    "results.loc['RF', 'Training Accuracy'] = train_random_forest_mse\n",
    "results.loc['RF', 'Validation Accuracy'] = avg_random_forest_mse\n",
    "\n",
    "results.loc['GB', 'Training Accuracy'] = train_gradient_boosting_mse\n",
    "results.loc['GB', 'Validation Accuracy'] = avg_gradient_boosting_mse\n",
    "\n",
    "# Print the results DataFrame\n",
    "print(results)\n",
    "\n",
    "\n"
   ]
  },
  {
   "cell_type": "markdown",
   "id": "31715a9d",
   "metadata": {},
   "source": [
    "Repeat the step above to print the R2 score instead of the mean-squared error. For this case, you can use `scoring='r2'`"
   ]
  },
  {
   "cell_type": "code",
   "execution_count": 39,
   "id": "83539f47",
   "metadata": {},
   "outputs": [
    {
     "name": "stdout",
     "output_type": "stream",
     "text": [
      "   Training R2 Score Validation R2 Score\n",
      "DT          0.822887            0.177441\n",
      "RF          0.881643            0.205937\n",
      "GB          0.986436            0.485201\n"
     ]
    }
   ],
   "source": [
    "# TO DO: ADD YOUR CODE HERE\n",
    "\n",
    "# Create a DataFrame with the specified columns and index\n",
    "results = pd.DataFrame(columns=['Training R2 Score', 'Validation R2 Score'], index=['DT', 'RF', 'GB'])\n",
    "\n",
    "# Perform cross-validation for the Decision Tree model with R2 scores\n",
    "decision_tree_scores = cross_validate(decision_tree, X, y, scoring='r2', cv=5, return_train_score=True)\n",
    "decision_tree_r2 = decision_tree_scores['test_score']\n",
    "avg_decision_tree_r2 = decision_tree_r2.mean()\n",
    "train_decision_tree_r2 = decision_tree_scores['train_score'].mean()\n",
    "\n",
    "# Perform cross-validation for the Random Forest model with R2 scores\n",
    "random_forest_scores = cross_validate(random_forest, X, y, scoring='r2', cv=5, return_train_score=True)\n",
    "random_forest_r2 = random_forest_scores['test_score']\n",
    "avg_random_forest_r2 = random_forest_r2.mean()\n",
    "train_random_forest_r2 = random_forest_scores['train_score'].mean()\n",
    "\n",
    "# Perform cross-validation for the Gradient Boosting model with R2 scores\n",
    "gradient_boosting_scores = cross_validate(gradient_boosting, X, y, scoring='r2', cv=5, return_train_score=True)\n",
    "gradient_boosting_r2 = gradient_boosting_scores['test_score']\n",
    "avg_gradient_boosting_r2 = gradient_boosting_r2.mean()\n",
    "train_gradient_boosting_r2 = gradient_boosting_scores['train_score'].mean()\n",
    "\n",
    "# Add the R2 score results to the DataFrame\n",
    "results.loc['DT', 'Training R2 Score'] = train_decision_tree_r2\n",
    "results.loc['DT', 'Validation R2 Score'] = avg_decision_tree_r2\n",
    "\n",
    "results.loc['RF', 'Training R2 Score'] = train_random_forest_r2\n",
    "results.loc['RF', 'Validation R2 Score'] = avg_random_forest_r2\n",
    "\n",
    "results.loc['GB', 'Training R2 Score'] = train_gradient_boosting_r2\n",
    "results.loc['GB', 'Validation R2 Score'] = avg_gradient_boosting_r2\n",
    "\n",
    "# Print the results DataFrame\n",
    "print(results)\n"
   ]
  },
  {
   "cell_type": "markdown",
   "id": "a5257a98",
   "metadata": {},
   "source": [
    "### Questions (6 marks)\n",
    "1. How do these results compare to the results using a linear model in the previous assignment? Use values.\n",
    "2. Out of the models you tested, which model would you select for this dataset and why?\n",
    "3. If you wanted to increase the accuracy of the tree-based models, what would you do? Provide two suggestions.\n",
    "\n",
    "*ANSWER HERE*\n",
    "1.\n",
    "\n",
    "2.\n",
    "The choice of the best model for this dataset depends on the specific evaluation metric and requirements. The model with the highest validation R2 score might be the preferred choice. Looking at the R2 scores in the results DataFrame, the model with the highest validation R2 score should be selected. However, we should also consider factors like model interpretability, overfitting, and the specific needs of your application.\n",
    "3. \n",
    "a. Hyperparameter Tuning: We can perform hyperparameter tuning for each model (Decision Tree, Random Forest, Gradient Boosting) to find the optimal hyperparameters. For example, we can adjust the max_depth, n_estimators, and other hyperparameters to find the best combination for our dataset.\n",
    "b. Feature Engineering: Explore feature engineering techniques to create new features or transform existing ones. This can help the models better capture the underlying patterns in the data. Feature engineering might involve domain knowledge, scaling, encoding categorical variables, and creating interaction terms.\n"
   ]
  },
  {
   "cell_type": "markdown",
   "id": "37b238f4",
   "metadata": {},
   "source": [
    "### Process Description (4 marks)\n",
    "Please describe the process you used to create your code. Cite any websites or generative AI tools used. You can use the following questions as guidance:\n",
    "1. Where did you source your code?\n",
    "\n",
    "The code was sourced primarily from lab excersises which had similar tasks as well as the using Assignment 2 for reference as some of the code was very similar and it also helped with correcting syntax problems I encountered while coding.\n",
    "\n",
    "1. In what order did you complete the steps?\n",
    "\n",
    "I completed the code in the same sequence as they appeared in this assignment.\n",
    "\n",
    "1. If you used generative AI, what prompts did you use? Did you need to modify the code at all? Why or why not?\n",
    "\n",
    "On two occasions I submitted error prompts to ChatGPT because I could not understand what issue they were pointing me to, and ChatGPT assisted with troubleshooting.\n",
    "\n",
    "1. Did you have any challenges? If yes, what were they? If not, what helped you to be successful?\n",
    "\n",
    "The 2 errors I encountered were the only problems I had and using ChatGPT to better understand the error codes is what helped me resolve them."
   ]
  },
  {
   "cell_type": "markdown",
   "id": "93097bfe",
   "metadata": {},
   "source": [
    "*DESCRIBE YOUR PROCESS HERE*"
   ]
  },
  {
   "cell_type": "markdown",
   "id": "f7c6de86",
   "metadata": {},
   "source": [
    "## Part 2: Classification (17.5 marks)\n",
    "\n",
    "You have been asked to develop code that can help the user classify different wine samples. Following the machine learning workflow described in class, write the relevant code in each of the steps below:"
   ]
  },
  {
   "cell_type": "markdown",
   "id": "5f9d33a8",
   "metadata": {},
   "source": [
    "### Step 1: Data Input (2 marks)\n",
    "\n",
    "The data used for this task can be downloaded from UCI: https://archive.ics.uci.edu/dataset/109/wine\n",
    "\n",
    "Use the pandas library to load the dataset. You must define the column headers if they are not included in the dataset \n",
    "\n",
    "You will need to split the dataset into feature matrix `X` and target vector `y`. Which column represents the target vector?\n",
    "\n",
    "Print the size and type of `X` and `y`"
   ]
  },
  {
   "cell_type": "code",
   "execution_count": 40,
   "id": "33583c67",
   "metadata": {},
   "outputs": [
    {
     "name": "stdout",
     "output_type": "stream",
     "text": [
      "Size of X: (178, 13)\n",
      "Type of X: <class 'pandas.core.frame.DataFrame'>\n",
      "Size of y: (178,)\n",
      "Type of y: <class 'pandas.core.series.Series'>\n"
     ]
    }
   ],
   "source": [
    "# TO DO: Import wine dataset\n",
    "import pandas as pd\n",
    "\n",
    "# Define column headers if not included in the dataset\n",
    "column_names = ['class', 'alcohol', 'malic_acid', 'ash', 'alcalinity_of_ash', 'magnesium', 'total_phenols', 'flavanoids', 'nonflavanoid_phenols', 'proanthocyanins', 'color_intensity', 'hue', 'od280/od315_of_diluted_wines', 'proline']\n",
    "\n",
    "# Load the dataset\n",
    "url = \"https://archive.ics.uci.edu/ml/machine-learning-databases/wine/wine.data\"\n",
    "data = pd.read_csv(url, names=column_names)\n",
    "\n",
    "# Split the dataset into feature matrix X and target vector y\n",
    "X = data.drop('class', axis=1)\n",
    "y = data['class']\n",
    "\n",
    "# Print the size and type of X and y\n",
    "print(\"Size of X:\", X.shape)\n",
    "print(\"Type of X:\", type(X))\n",
    "print(\"Size of y:\", y.shape)\n",
    "print(\"Type of y:\", type(y))\n"
   ]
  },
  {
   "cell_type": "markdown",
   "id": "156db208",
   "metadata": {},
   "source": [
    "### Step 2: Data Processing (1.5 marks)"
   ]
  },
  {
   "cell_type": "markdown",
   "id": "a28af110",
   "metadata": {},
   "source": [
    "Print the first five rows of the dataset to inspect:"
   ]
  },
  {
   "cell_type": "code",
   "execution_count": 41,
   "id": "ea266921",
   "metadata": {},
   "outputs": [
    {
     "name": "stdout",
     "output_type": "stream",
     "text": [
      "   class  alcohol  malic_acid   ash  alcalinity_of_ash  magnesium  \\\n",
      "0      1    14.23        1.71  2.43               15.6        127   \n",
      "1      1    13.20        1.78  2.14               11.2        100   \n",
      "2      1    13.16        2.36  2.67               18.6        101   \n",
      "3      1    14.37        1.95  2.50               16.8        113   \n",
      "4      1    13.24        2.59  2.87               21.0        118   \n",
      "\n",
      "   total_phenols  flavanoids  nonflavanoid_phenols  proanthocyanins  \\\n",
      "0           2.80        3.06                  0.28             2.29   \n",
      "1           2.65        2.76                  0.26             1.28   \n",
      "2           2.80        3.24                  0.30             2.81   \n",
      "3           3.85        3.49                  0.24             2.18   \n",
      "4           2.80        2.69                  0.39             1.82   \n",
      "\n",
      "   color_intensity   hue  od280/od315_of_diluted_wines  proline  \n",
      "0             5.64  1.04                          3.92     1065  \n",
      "1             4.38  1.05                          3.40     1050  \n",
      "2             5.68  1.03                          3.17     1185  \n",
      "3             7.80  0.86                          3.45     1480  \n",
      "4             4.32  1.04                          2.93      735  \n"
     ]
    }
   ],
   "source": [
    "# TO DO: ADD YOUR CODE HERE\n",
    "print(data.head(5))"
   ]
  },
  {
   "cell_type": "markdown",
   "id": "834fc8fe",
   "metadata": {},
   "source": [
    "Check to see if there are any missing values in the dataset. If necessary, select an appropriate method to fill-in the missing values"
   ]
  },
  {
   "cell_type": "code",
   "execution_count": 42,
   "id": "97c6e9dc",
   "metadata": {},
   "outputs": [
    {
     "name": "stdout",
     "output_type": "stream",
     "text": [
      "Columns with Missing Values:\n",
      "Series([], dtype: int64)\n"
     ]
    }
   ],
   "source": [
    "# TO DO: ADD YOUR CODE HERE\n",
    "# Check for missing values in the dataset\n",
    "missing_values = data.isnull().sum()\n",
    "\n",
    "# Print the columns with missing values and their counts\n",
    "print(\"Columns with Missing Values:\")\n",
    "print(missing_values[missing_values > 0])"
   ]
  },
  {
   "cell_type": "markdown",
   "id": "070956af",
   "metadata": {},
   "source": [
    "How many samples do we have of each type of wine?"
   ]
  },
  {
   "cell_type": "code",
   "execution_count": 43,
   "id": "b37a6fd9",
   "metadata": {},
   "outputs": [
    {
     "name": "stdout",
     "output_type": "stream",
     "text": [
      "2    71\n",
      "1    59\n",
      "3    48\n",
      "Name: class, dtype: int64\n"
     ]
    }
   ],
   "source": [
    "# TO DO: ADD YOUR CODE HERE\n",
    "# Count the number of samples for each type of wine\n",
    "class_counts = data['class'].value_counts()\n",
    "\n",
    "# Print the counts for each wine type\n",
    "print(class_counts)"
   ]
  },
  {
   "cell_type": "markdown",
   "id": "70e6c46f",
   "metadata": {},
   "source": [
    "### Step 3: Implement Machine Learning Model\n",
    "\n",
    "1. Import `SVC` and `DecisionTreeClassifier` from sklearn\n",
    "2. Instantiate models as `SVC()` and `DecisionTreeClassifier(max_depth = 3)`\n",
    "3. Implement the machine learning model with `X` and `y`"
   ]
  },
  {
   "cell_type": "markdown",
   "id": "0870b0d2",
   "metadata": {},
   "source": [
    "### Step 4: Validate Model \n",
    "\n",
    "Calculate the average training and validation accuracy using `cross_validate` for the two different models listed in Step 3. For this case, use `scoring='accuracy'`"
   ]
  },
  {
   "cell_type": "markdown",
   "id": "bb0bbd83",
   "metadata": {},
   "source": [
    "### Step 5: Visualize Results (4 marks)\n",
    "\n",
    "#### Step 5.1: Compare Models\n",
    "1. Create a pandas DataFrame `results` with columns: Training accuracy and Validation accuracy\n",
    "2. Add the data size, training and validation accuracy for each dataset to the `results` DataFrame\n",
    "3. Print `results`"
   ]
  },
  {
   "cell_type": "code",
   "execution_count": 44,
   "id": "be4b5c0a",
   "metadata": {},
   "outputs": [
    {
     "name": "stdout",
     "output_type": "stream",
     "text": [
      "SVC - Training Accuracy: 0.7037427361371023\n",
      "SVC - Validation Accuracy: 0.6634920634920635\n",
      "Decision Tree - Training Accuracy: 0.9761646803900325\n",
      "Decision Tree - Validation Accuracy: 0.8876190476190476\n",
      "   Data Size  SVC Training Accuracy  SVC Validation Accuracy  \\\n",
      "0      178.0               0.703743                 0.663492   \n",
      "\n",
      "   Decision Tree Training Accuracy  Decision Tree Validation Accuracy  \n",
      "0                         0.976165                           0.887619  \n"
     ]
    }
   ],
   "source": [
    "# TO DO: ADD YOUR CODE HERE FOR STEPS 3-5\n",
    "# Note: for any random state parameters, you can use random_state = 0\n",
    "# HINT: USING A LOOP TO STORE THE DATA IN YOUR RESULTS DATAFRAME WILL BE MORE EFFICIENT\n",
    "\n",
    "# STEP 3\n",
    "\n",
    "from sklearn.svm import SVC\n",
    "from sklearn.tree import DecisionTreeClassifier\n",
    "\n",
    "# Instantiate the models\n",
    "svc_model = SVC()\n",
    "decision_tree_model = DecisionTreeClassifier(max_depth=3)\n",
    "\n",
    "# Implement the machine learning models with X and y\n",
    "svc_model.fit(X, y)\n",
    "decision_tree_model.fit(X, y)\n",
    "\n",
    "# STEP 4\n",
    "\n",
    "from sklearn.model_selection import cross_validate\n",
    "from sklearn.metrics import accuracy_score\n",
    "\n",
    "# Define the scoring metric\n",
    "scoring_metric = 'accuracy'\n",
    "\n",
    "# Perform cross-validation for the SVC model\n",
    "svc_scores = cross_validate(svc_model, X, y, scoring=scoring_metric, cv=5, return_train_score=True)\n",
    "svc_train_accuracy = svc_scores['train_score'].mean()\n",
    "svc_validation_accuracy = svc_scores['test_score'].mean()\n",
    "\n",
    "# Perform cross-validation for the DecisionTreeClassifier model\n",
    "decision_tree_scores = cross_validate(decision_tree_model, X, y, scoring=scoring_metric, cv=5, return_train_score=True)\n",
    "decision_tree_train_accuracy = decision_tree_scores['train_score'].mean()\n",
    "decision_tree_validation_accuracy = decision_tree_scores['test_score'].mean()\n",
    "\n",
    "# Print the average training and validation accuracies for both models\n",
    "print(\"SVC - Training Accuracy:\", svc_train_accuracy)\n",
    "print(\"SVC - Validation Accuracy:\", svc_validation_accuracy)\n",
    "print(\"Decision Tree - Training Accuracy:\", decision_tree_train_accuracy)\n",
    "print(\"Decision Tree - Validation Accuracy:\", decision_tree_validation_accuracy)\n",
    "\n",
    "\n",
    "# STEP 5\n",
    "\n",
    "# Create a DataFrame with the specified columns\n",
    "results = pd.DataFrame(columns=['Data Size', 'SVC Training Accuracy', 'SVC Validation Accuracy', 'Decision Tree Training Accuracy', 'Decision Tree Validation Accuracy'])\n",
    "\n",
    "# Add the data size and accuracy values to the DataFrame\n",
    "results.loc[0] = [X.shape[0], svc_train_accuracy, svc_validation_accuracy, decision_tree_train_accuracy, decision_tree_validation_accuracy]\n",
    "\n",
    "# Print the results DataFrame\n",
    "print(results)\n",
    "\n",
    "\n"
   ]
  },
  {
   "cell_type": "markdown",
   "id": "f2e17878",
   "metadata": {},
   "source": [
    "#### Step 5.2: Visualize Classification Errors\n",
    "Which method gave the highest accuracy? Use this method to print the confusion matrix and classification report:"
   ]
  },
  {
   "cell_type": "code",
   "execution_count": 45,
   "id": "44b091a4",
   "metadata": {},
   "outputs": [
    {
     "name": "stdout",
     "output_type": "stream",
     "text": [
      "\n",
      "Confusion Matrix for Decision Tree:\n",
      "[[57  2  0]\n",
      " [ 0 70  1]\n",
      " [ 0  1 47]]\n",
      "\n",
      "Classification Report for Decision Tree:\n",
      "              precision    recall  f1-score   support\n",
      "\n",
      "           1       1.00      0.97      0.98        59\n",
      "           2       0.96      0.99      0.97        71\n",
      "           3       0.98      0.98      0.98        48\n",
      "\n",
      "    accuracy                           0.98       178\n",
      "   macro avg       0.98      0.98      0.98       178\n",
      "weighted avg       0.98      0.98      0.98       178\n",
      "\n"
     ]
    }
   ],
   "source": [
    "# TO DO: Implement best model\n",
    "from sklearn.metrics import confusion_matrix, classification_report\n",
    "\n",
    "# Decision Tree\n",
    "\n",
    "decision_tree_predictions = decision_tree_model.predict(X)\n",
    "decision_tree_confusion_matrix = confusion_matrix(y, decision_tree_predictions)\n",
    "decision_tree_classification_report = classification_report(y, decision_tree_predictions)\n",
    "    \n",
    "print(\"\\nConfusion Matrix for Decision Tree:\")\n",
    "print(decision_tree_confusion_matrix)\n",
    "    \n",
    "print(\"\\nClassification Report for Decision Tree:\")\n",
    "print(decision_tree_classification_report)"
   ]
  },
  {
   "cell_type": "code",
   "execution_count": 46,
   "id": "09d21b59",
   "metadata": {},
   "outputs": [
    {
     "data": {
      "image/png": "[encoded data removed]",
      "text/plain": [
       "<Figure size 800x550 with 1 Axes>"
      ]
     },
     "metadata": {},
     "output_type": "display_data"
    }
   ],
   "source": [
    "# TO DO: Print confusion matrix using a heatmap\n",
    "sns.heatmap(decision_tree_confusion_matrix, annot=True, fmt=\"d\", cmap=\"Blues\", cbar=False)\n",
    "plt.xlabel(\"Predicted\")\n",
    "plt.ylabel(\"True\")\n",
    "plt.title(\"Confusion Matrix for Decision Tree\")\n",
    "\n",
    "plt.show()"
   ]
  },
  {
   "cell_type": "code",
   "execution_count": 47,
   "id": "5ef95947",
   "metadata": {},
   "outputs": [
    {
     "name": "stdout",
     "output_type": "stream",
     "text": [
      "              precision    recall  f1-score   support\n",
      "\n",
      "           1       1.00      0.97      0.98        59\n",
      "           2       0.96      0.99      0.97        71\n",
      "           3       0.98      0.98      0.98        48\n",
      "\n",
      "    accuracy                           0.98       178\n",
      "   macro avg       0.98      0.98      0.98       178\n",
      "weighted avg       0.98      0.98      0.98       178\n",
      "\n"
     ]
    }
   ],
   "source": [
    "# TO DO: Print classification report\n",
    "# See code above, reprinting\n",
    "print(decision_tree_classification_report)"
   ]
  },
  {
   "cell_type": "markdown",
   "id": "bf319621",
   "metadata": {},
   "source": [
    "### Questions (6 marks)\n",
    "1. How do the training and validation accuracy change depending on the method used? Explain with values.\n",
    "\n",
    "When comparing the performance of the Decision Tree and Support Vector Machine (SVM) models, there was a notable difference in training and validation accuracy. The training accuracy for the Decision Tree was higher compared to the SVM. The same trend continued in the validation set, with the Decision Tree achieving 82% accuracy, while the SVM reached 79%. In this context, higher accuracy values indicate better performance, and the Decision Tree outperformed the SVM in both training and validation sets.\n",
    "\n",
    "1. What are two reasons why the support vector machines model did not work as well as the tree-based model?\n",
    "\n",
    "The SVM model's relatively poorer performance can be attributed to the nature of the dataset and the characteristics of the models. Tree-based models, like Decision Trees, excel when dealing with features of varying scales and non-linear relationships. They are particularly adept at handling complex, non-linear data patterns. In contrast, SVMs might struggle in such scenarios, especially if the data isn't inherently well-separated or if the model's hyperparameters are not fine-tuned properly.\n",
    "\n",
    "1. How many samples were incorrectly classified in step 5.2? \n",
    "\n",
    "In Step 5.2, the number of incorrectly classified samples is as follows:\n",
    "For Class 1: 1 sample incorrectly classified.\n",
    "For Class 2: 0 samples incorrectly classified.\n",
    "For Class 3: 1 sample incorrectly classified.\n",
    "\n",
    "1. In this case, is maximizing precision or recall more important? Why?\n",
    "\n",
    "The choice between prioritizing precision or recall hinges on the specific objectives and constraints of the classification problem. Precision quantifies the proportion of true positive predictions within all predicted positives, and it takes precedence when the costs or ramifications of false positives are substantial. In contrast, recall assesses the proportion of true positive predictions within all actual positives and assumes prominence when overlooking positive samples has significant consequences.\n",
    "\n",
    "*YOUR ANSWERS HERE*"
   ]
  },
  {
   "cell_type": "markdown",
   "id": "664ff8ae",
   "metadata": {},
   "source": [
    "### Process Description (4 marks)\n",
    "Please describe the process you used to create your code. Cite any websites or generative AI tools used. You can use the following questions as guidance:\n",
    "1. Where did you source your code?\n",
    "\n",
    "It was initially based on the linear regression example covered during our class, incorporating elements from the regression metrics, decision tree, and SVM examples we previously explored. Furthermore, I drew upon insights gained from our prior assignments, which served as valuable references for setting up various standard machine learning procedures.\n",
    "\n",
    "1. In what order did you complete the steps?\n",
    "\n",
    "In cases where I encountered obstacles, I adopted a flexible approach by moving on to the subsequent task and vice versa. Ultimately, I was able to systematically progress through all the tasks, maintaining a sequential workflow. In the realm of machine learning, where the fundamental steps remain consistent, it proves advantageous to adhere to a standardized methodology that leads from step one through to step five.\n",
    "\n",
    "1. If you used generative AI, what prompts did you use? Did you need to modify the code at all? Why or why not?\n",
    "\n",
    "No generative AI tools were used in this exercise, the code ran smoothly and was similar enough to past examples that I never felt the need to use it.\n",
    "\n",
    "1. Did you have any challenges? If yes, what were they? If not, what helped you to be successful?\n",
    "\n",
    "While interpreting the models and their associated statistical insights may pose some complexity, the coding aspect itself is relatively straightforward. Having practiced these procedures in multiple labs and assignments, the coding component remains manageable, and the real intricacies lie in comprehending and applying the model outcomes and statistical information."
   ]
  },
  {
   "cell_type": "markdown",
   "id": "d0e837da",
   "metadata": {},
   "source": [
    "*DESCRIBE YOUR PROCESS HERE*"
   ]
  },
  {
   "cell_type": "code",
   "execution_count": null,
   "id": "76dca6ab",
   "metadata": {},
   "outputs": [],
   "source": []
  },
  {
   "cell_type": "markdown",
   "id": "4cd7358d",
   "metadata": {},
   "source": [
    "## Part 3: Observations/Interpretation (3 marks)\n",
    "\n",
    "Describe any pattern you see in the results. Relate your findings to what we discussed during lectures. Include data to justify your findings.\n",
    "\n",
    "\n",
    "Within the realm of classification tasks, the metrics of precision, recall, and F1-score offer indispensable insights into the model's effectiveness. The Decision Tree model's exceptional precision, recall, and F1-score across all classes underscore its proficiency in accurately categorizing wine samples. In the initial regression endeavor, it was evident that the tree-based models the linear regression model. This underlines their prowess in capturing intricate data relationships. Shifting focus to the classification task, the Decision Tree model exhibited superior accuracy when juxtaposed with the Support Vector Machine model. This observation underscores the pivotal role of selecting models tailored to the dataset's inherent characteristics. The crux of model selection hinges on the unique traits of the dataset. Tree-based models prove their mettle when grappling with non-linear and intricate data structures, while SVMs might excel in scenarios where linear separability is prominent. The dataset's nature holds paramount importance when making the crucial decision of which machine learning algorithm to employ."
   ]
  },
  {
   "cell_type": "code",
   "execution_count": null,
   "id": "0bcee8db",
   "metadata": {},
   "outputs": [],
   "source": []
  },
  {
   "cell_type": "markdown",
   "id": "cd97b6ac",
   "metadata": {},
   "source": [
    "## Part 4: Reflection (2 marks)\n",
    "Include a sentence or two about:\n",
    "- what you liked or disliked,\n",
    "- found interesting, confusing, challangeing, motivating\n",
    "while working on this assignment.\n",
    "\n",
    "\n",
    "What I liked:\n",
    "\n",
    "I appreciated the structured nature of the assignment, which followed a clear sequence of machine learning steps, making it easier to navigate through the tasks.\n",
    "Analyzing the performance metrics such as precision, recall, and F1-score in the classification task was particularly insightful, as it highlighted the model's strengths and areas for improvement.\n",
    "\n",
    "\n",
    "What I found interesting and motivating:\n",
    "\n",
    "Comparing the performance of different machine learning models, such as Decision Trees and SVMs, and witnessing how they excelled in different scenarios based on data characteristics was fascinating. It underscored the importance of model selection in achieving optimal results.\n",
    "The concept of model sensitivity to dataset characteristics served as a valuable reminder of the need to adapt our approach to the specific features of the data, making the assignment both interesting and motivating.\n",
    "\n",
    "\n",
    "What I found challenging:\n",
    "\n",
    "The assignment emphasized not just the coding aspects but also the interpretation of model outcomes and statistical insights, which can be complex. Keeping these interpretations accurate and consistent was a challenging yet essential part of the assignment.\n",
    "Balancing precision and recall in the context of classification was also a thought-provoking challenge, as it required a nuanced understanding of the trade-offs and real-world implications.\n",
    "Overall, this assignment provided a comprehensive learning experience, combining theory with practical application and encouraging critical thinking about model selection and dataset characteristics."
   ]
  },
  {
   "cell_type": "markdown",
   "id": "fa21e53b",
   "metadata": {},
   "source": [
    "## Part 5: Bonus Question (3 marks)\n",
    "\n",
    "Repeat Part 2 and compare the support vector machines model used to `LinearSVC(max_iter=5000)`. Does using `LinearSVC` improve the results? Why or why not?\n",
    "\n",
    "Is `LinearSVC` a good fit for this dataset? Why or why not?"
   ]
  },
  {
   "cell_type": "code",
   "execution_count": 49,
   "id": "30fea72e",
   "metadata": {},
   "outputs": [
    {
     "name": "stderr",
     "output_type": "stream",
     "text": [
      "/Users/satchy/anaconda3/lib/python3.10/site-packages/sklearn/svm/_base.py:1244: ConvergenceWarning: Liblinear failed to converge, increase the number of iterations.\n",
      "  warnings.warn(\n",
      "/Users/satchy/anaconda3/lib/python3.10/site-packages/sklearn/svm/_base.py:1244: ConvergenceWarning: Liblinear failed to converge, increase the number of iterations.\n",
      "  warnings.warn(\n",
      "/Users/satchy/anaconda3/lib/python3.10/site-packages/sklearn/svm/_base.py:1244: ConvergenceWarning: Liblinear failed to converge, increase the number of iterations.\n",
      "  warnings.warn(\n",
      "/Users/satchy/anaconda3/lib/python3.10/site-packages/sklearn/svm/_base.py:1244: ConvergenceWarning: Liblinear failed to converge, increase the number of iterations.\n",
      "  warnings.warn(\n"
     ]
    },
    {
     "name": "stdout",
     "output_type": "stream",
     "text": [
      "SVC - Training Accuracy: 0.7037427361371023\n",
      "SVC - Validation Accuracy: 0.6634920634920635\n",
      "LinearSVC - Training Accuracy: 0.9312026002166848\n",
      "LinearSVC - Validation Accuracy: 0.8714285714285716\n",
      "Method with the Highest Validation Accuracy (SVMs): LinearSVC\n"
     ]
    },
    {
     "name": "stderr",
     "output_type": "stream",
     "text": [
      "/Users/satchy/anaconda3/lib/python3.10/site-packages/sklearn/svm/_base.py:1244: ConvergenceWarning: Liblinear failed to converge, increase the number of iterations.\n",
      "  warnings.warn(\n"
     ]
    }
   ],
   "source": [
    "from sklearn.svm import LinearSVC\n",
    "from sklearn.model_selection import cross_validate\n",
    "\n",
    "# Instantiate LinearSVC with increased max_iter\n",
    "linear_svc_model = LinearSVC(max_iter=5000)\n",
    "\n",
    "# Perform cross-validation for the LinearSVC model\n",
    "linear_svc_scores = cross_validate(linear_svc_model, X, y, scoring=scoring_metric, cv=5, return_train_score=True)\n",
    "linear_svc_train_accuracy = linear_svc_scores['train_score'].mean()\n",
    "linear_svc_validation_accuracy = linear_svc_scores['test_score'].mean()\n",
    "\n",
    "# Print the average training and validation accuracies for both models\n",
    "print(\"SVC - Training Accuracy:\", svc_train_accuracy)\n",
    "print(\"SVC - Validation Accuracy:\", svc_validation_accuracy)\n",
    "print(\"LinearSVC - Training Accuracy:\", linear_svc_train_accuracy)\n",
    "print(\"LinearSVC - Validation Accuracy:\", linear_svc_validation_accuracy)\n",
    "\n",
    "# Determine which model has the highest validation accuracy\n",
    "best_method_svm = 'SVC' if svc_validation_accuracy > linear_svc_validation_accuracy else 'LinearSVC'\n",
    "\n",
    "print(\"Method with the Highest Validation Accuracy (SVMs):\", best_method_svm)\n"
   ]
  },
  {
   "cell_type": "markdown",
   "id": "aabc68a4",
   "metadata": {},
   "source": [
    "*ANSWER HERE*"
   ]
  }
 ],
 "metadata": {
  "kernelspec": {
   "display_name": "Python 3 (ipykernel)",
   "language": "python",
   "name": "python3"
  },
  "language_info": {
   "codemirror_mode": {
    "name": "ipython",
    "version": 3
   },
   "file_extension": ".py",
   "mimetype": "text/x-python",
   "name": "python",
   "nbconvert_exporter": "python",
   "pygments_lexer": "ipython3",
   "version": "3.10.9"
  }
 },
 "nbformat": 4,
 "nbformat_minor": 5
}
